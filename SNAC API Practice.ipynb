{
 "cells": [
  {
   "cell_type": "code",
   "execution_count": 28,
   "id": "cb380af9",
   "metadata": {},
   "outputs": [],
   "source": [
    "import requests, json\n",
    "\n",
    "pracUrl = \"http://snac-dev.iath.virginia.edu/api/\"\n",
    "realUrl = \"http://api.snaccooperative.org\"\n",
    "pracKey = \"MGQyYzM3NTI4MWI4MjIzNWQxMjdjM2M4YjA3NjJkNjI5MmQ0N2Y1Yw\"\n",
    "realKey = \"YTA5MjhlYTgyY2ZkZGRmNzFmZjY2NTg1YjJhZGY0OGExZDBiNGY5Nw\""
   ]
  },
  {
   "cell_type": "code",
   "execution_count": 32,
   "id": "0e446b58",
   "metadata": {},
   "outputs": [
    {
     "name": "stdout",
     "output_type": "stream",
     "text": [
      "{\n",
      "    \"error\": {\n",
      "        \"type\": \"Permission Error\",\n",
      "        \"message\": \"User not authorized to delete constellations.\"\n",
      "    },\n",
      "    \"timing\": 176.36\n",
      "}\n"
     ]
    }
   ],
   "source": [
    "testCommand = {\"command\": \"delete_constellation\",\n",
    "               \"apikey\":pracKey,\n",
    "               \"constellation\":{\n",
    "                   \"dataType\":\"Constellatoion\",\n",
    "                   \"id\": 56886470}\n",
    "               }\n",
    "testInput = json.dumps(testCommand)\n",
    "r = requests.post(pracUrl, data=testInput)\n",
    "print(r.text)"
   ]
  },
  {
   "cell_type": "code",
   "execution_count": null,
   "id": "7533b0f0",
   "metadata": {},
   "outputs": [],
   "source": []
  }
 ],
 "metadata": {
  "kernelspec": {
   "display_name": "Python 3 (ipykernel)",
   "language": "python",
   "name": "python3"
  },
  "language_info": {
   "codemirror_mode": {
    "name": "ipython",
    "version": 3
   },
   "file_extension": ".py",
   "mimetype": "text/x-python",
   "name": "python",
   "nbconvert_exporter": "python",
   "pygments_lexer": "ipython3",
   "version": "3.9.5"
  }
 },
 "nbformat": 4,
 "nbformat_minor": 5
}
